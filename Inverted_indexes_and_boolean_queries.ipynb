{
  "cells": [
    {
      "cell_type": "markdown",
      "metadata": {
        "id": "view-in-github",
        "colab_type": "text"
      },
      "source": [
        "<a href=\"https://colab.research.google.com/github/vijayareddy2002/information_retrieval/blob/main/Inverted_indexes_and_boolean_queries.ipynb\" target=\"_parent\"><img src=\"https://colab.research.google.com/assets/colab-badge.svg\" alt=\"Open In Colab\"/></a>"
      ]
    },
    {
      "cell_type": "code",
      "execution_count": 1,
      "metadata": {
        "id": "eUlVP2Foo_N-"
      },
      "outputs": [],
      "source": [
        "doc1=\"hi everyone\""
      ]
    },
    {
      "cell_type": "code",
      "execution_count": 2,
      "metadata": {
        "id": "inMAjK1XpD7i"
      },
      "outputs": [],
      "source": [
        "doc2=\"hello how are you feeling today\""
      ]
    },
    {
      "cell_type": "code",
      "execution_count": 3,
      "metadata": {
        "id": "7zjRr-D5pIK5"
      },
      "outputs": [],
      "source": [
        "doc3=\"heyy listen to me\""
      ]
    },
    {
      "cell_type": "code",
      "execution_count": 4,
      "metadata": {
        "id": "ZGRmLf0qpM9w"
      },
      "outputs": [],
      "source": [
        "l=[doc1,doc2,doc3]"
      ]
    },
    {
      "cell_type": "code",
      "execution_count": 5,
      "metadata": {
        "colab": {
          "base_uri": "https://localhost:8080/"
        },
        "id": "3NdJp6HNpP0Z",
        "outputId": "86ee68b4-f2fd-4665-846e-b67524295b12"
      },
      "outputs": [
        {
          "output_type": "stream",
          "name": "stdout",
          "text": [
            "['hi everyone', 'hello how are you feeling today', 'heyy listen to me']\n"
          ]
        }
      ],
      "source": [
        "print(l)"
      ]
    },
    {
      "cell_type": "code",
      "execution_count": 6,
      "metadata": {
        "colab": {
          "base_uri": "https://localhost:8080/"
        },
        "id": "r51uzJBnvta9",
        "outputId": "6a04f64f-aa89-44dc-8baf-d639fe323866"
      },
      "outputs": [
        {
          "output_type": "stream",
          "name": "stdout",
          "text": [
            "['ourselves', 'hers', 'between', 'yourself', 'but', 'again', 'there', 'about', 'once', 'during', 'out', 'very', 'having', 'is', 'a', 'in', 'the', 'by', 'on', 'so', '!', '@', '#', '$', '%', '.', '^', '&', '*', '(', ')', '-', '_', '+', '=', '/']\n"
          ]
        }
      ],
      "source": [
        "#trying with the stop words\n",
        "stopwords=['ourselves', 'hers', 'between', 'yourself', 'but', 'again', 'there', 'about', 'once', 'during', 'out', 'very','having','is','a','in','the','by','on','so','!','@','#','$','%','.','^','&','*','(',')','-','_','+','=','/']##\\??\n",
        "\n",
        "#‘with’, ‘they’, ‘own’, ‘an’, ‘be’, ‘some’, ‘for’, ‘do’, ‘its’, ‘yours’, ‘such’, ‘into’, ‘of’, ‘most’, ‘itself’, ‘other’, ‘off’, ‘is’, ‘s’,\n",
        "# ‘am’, ‘or’, ‘who’, ‘as’, ‘from’, ‘him’, ‘each’, ‘the’, ‘themselves’, ‘until’, ‘below’, ‘are’, ‘we’, ‘these’, ‘your’, ‘his’, ‘through’,\n",
        "# ‘don’, ‘nor’, ‘me’, ‘were’, ‘her’, ‘more’, ‘himself’, ‘this’, ‘down’, ‘should’, ‘our’, ‘their’, ‘while’, ‘above’, ‘both’, ‘up’, ‘to’, ‘ours’, ‘had’, ‘she’, ‘all’, ‘no’, ‘when’, ‘at’, ‘any’, ‘before’, ‘them’, ‘same’, ‘and’, \n",
        "#‘been’, ‘have’, ‘in’, ‘will’, ‘on’, ‘does’, ‘yourselves’, ‘then’, ‘that’, ‘because’, ‘what’, ‘over’, ‘why’, ‘so’, ‘can’, ‘did’, ‘not’, ‘now’, ‘under’, ‘he’, ‘you’, ‘herself’, ‘has’, ‘just’, ‘where’, ‘too’, ‘only’, ‘myself’, ‘which’, ‘those’, ‘i’, ‘after’, ‘few’, ‘whom’, \n",
        "#‘t’, ‘being’, ‘if’, ‘theirs’, ‘my’, ‘against’, ‘a’, ‘by’, ‘doing’, ‘it’, ‘how’, ‘further’, ‘was’, ‘here’, ‘than’]\n",
        "print(stopwords)"
      ]
    },
    {
      "cell_type": "code",
      "execution_count": 7,
      "metadata": {
        "colab": {
          "base_uri": "https://localhost:8080/"
        },
        "id": "33T3mTEDpYSg",
        "outputId": "eb532a95-0597-4295-d6ea-0c1d27c53e11"
      },
      "outputs": [
        {
          "output_type": "stream",
          "name": "stdout",
          "text": [
            "['hi', 'everyone', 'hello', 'how', 'are', 'you', 'feeling', 'today', 'heyy', 'listen', 'to', 'me']\n",
            "{'me', 'feeling', 'hi', 'listen', 'to', 'today', 'everyone', 'hello', 'how', 'you', 'are', 'heyy'}\n",
            "{'me': [], 'feeling': [], 'hi': [], 'listen': [], 'to': [], 'today': [], 'everyone': [], 'hello': [], 'how': [], 'you': [], 'are': [], 'heyy': []}\n",
            "{'me': [2], 'feeling': [1], 'hi': [0], 'listen': [2], 'to': [1, 2], 'today': [1], 'everyone': [0], 'hello': [1], 'how': [1], 'you': [1], 'are': [1], 'heyy': [2]}\n"
          ]
        }
      ],
      "source": [
        "l1=[]\n",
        "for i in range(0,len(l)):\n",
        "   k=l[i].split(\" \")\n",
        "   l1.extend(k)\n",
        "print(l1)\n",
        "#removing the duplicates\n",
        "p=set(l1)\n",
        "print(p)\n",
        "d={}\n",
        "for i in p:\n",
        "  d.update({i:[]})\n",
        "print(d)\n",
        "for i in d.keys():\n",
        "      for j in range(0,len(l)):\n",
        "        if i in l[j]:\n",
        "             d[i].append(j)\n",
        "print(d)"
      ]
    },
    {
      "cell_type": "code",
      "execution_count": 8,
      "metadata": {
        "colab": {
          "base_uri": "https://localhost:8080/"
        },
        "id": "fNE5sl8DsSSh",
        "outputId": "058688b4-78f6-4d59-8788-aee8fe95e2f9"
      },
      "outputs": [
        {
          "output_type": "stream",
          "name": "stdout",
          "text": [
            "['ourselves', 'are', 'the', 'is', 'and', 'or', 'hers', 'between', 'yourself', 'but', 'again', 'there', 'about', 'once', 'during', 'out', 'very', 'having', 'is', 'a', 'in', 'the', 'by', 'on', 'so', '!', '@', '#', '$', '%', '.', '^', '&', '*', '(', ')', '-', '_', '+', '=', '/']\n"
          ]
        }
      ],
      "source": [
        "#trying with the stop words\n",
        "stopwords=['ourselves','are','the','is','and','or','hers','between','yourself','but','again','there','about','once','during','out','very','having','is','a','in','the','by','on','so','!','@','#','$','%','.','^','&','*','(',')','-','_','+','=','/']##\\??\n",
        "\n",
        "#‘with’, ‘they’, ‘own’, ‘an’, ‘be’, ‘some’, ‘for’, ‘do’, ‘its’, ‘yours’, ‘such’, ‘into’, ‘of’, ‘most’, ‘itself’, ‘other’, ‘off’, ‘is’, ‘s’,\n",
        "# ‘am’, ‘or’, ‘who’, ‘as’, ‘from’, ‘him’, ‘each’, ‘the’, ‘themselves’, ‘until’, ‘below’, ‘are’, ‘we’, ‘these’, ‘your’, ‘his’, ‘through’,\n",
        "# ‘don’, ‘nor’, ‘me’, ‘were’, ‘her’, ‘more’, ‘himself’, ‘this’, ‘down’, ‘should’, ‘our’, ‘their’, ‘while’, ‘above’, ‘both’, ‘up’, ‘to’, ‘ours’, ‘had’, ‘she’, ‘all’, ‘no’, ‘when’, ‘at’, ‘any’, ‘before’, ‘them’, ‘same’, ‘and’, \n",
        "#‘been’, ‘have’, ‘in’, ‘will’, ‘on’, ‘does’, ‘yourselves’, ‘then’, ‘that’, ‘because’, ‘what’, ‘over’, ‘why’, ‘so’, ‘can’, ‘did’, ‘not’, ‘now’, ‘under’, ‘he’, ‘you’, ‘herself’, ‘has’, ‘just’, ‘where’, ‘too’, ‘only’, ‘myself’, ‘which’, ‘those’, ‘i’, ‘after’, ‘few’, ‘whom’, \n",
        "#‘t’, ‘being’, ‘if’, ‘theirs’, ‘my’, ‘against’, ‘a’, ‘by’, ‘doing’, ‘it’, ‘how’, ‘further’, ‘was’, ‘here’, ‘than’]\n",
        "print(stopwords)"
      ]
    },
    {
      "cell_type": "code",
      "execution_count": 9,
      "metadata": {
        "id": "KCFIwwj9vqMF"
      },
      "outputs": [],
      "source": [
        "doc1=\"HIIi!! hello how are you@.\""
      ]
    },
    {
      "cell_type": "code",
      "execution_count": 10,
      "metadata": {
        "id": "HK7pXZTowG3V"
      },
      "outputs": [],
      "source": [
        "doc2=\"hello ! how are you feeling dear RAMANA AKKIREDDY.\""
      ]
    },
    {
      "cell_type": "code",
      "execution_count": 11,
      "metadata": {
        "id": "n7vaHlYCwI91"
      },
      "outputs": [],
      "source": [
        "doc3=\"heyy buddy VIJAYA$!\""
      ]
    },
    {
      "cell_type": "code",
      "execution_count": 12,
      "metadata": {
        "colab": {
          "base_uri": "https://localhost:8080/"
        },
        "id": "hRxfQWvMwLR9",
        "outputId": "12fb9231-6d91-41fc-b67a-9c4de02bdd2a"
      },
      "outputs": [
        {
          "output_type": "stream",
          "name": "stdout",
          "text": [
            "['hiii!! hello how are you@.', 'hello ! how are you feeling dear ramana akkireddy.', 'heyy buddy vijaya$!']\n"
          ]
        }
      ],
      "source": [
        "l=[doc1.lower(),doc2.lower(),doc3.lower()]\n",
        "print(l)"
      ]
    },
    {
      "cell_type": "code",
      "execution_count": 13,
      "metadata": {
        "colab": {
          "base_uri": "https://localhost:8080/"
        },
        "id": "_eL-9O-rwpy5",
        "outputId": "8aaa039d-3de0-4562-ff71-6cc13024a79c"
      },
      "outputs": [
        {
          "output_type": "stream",
          "name": "stdout",
          "text": [
            "HIIi   hello how are you  \n"
          ]
        }
      ],
      "source": [
        "#removing the different symbols and white spaces:\n",
        "punc = '''!()-[]{};:'\"\\, <>./?@#$%^&*_~'''\n",
        "for ele in doc1:  \n",
        "    if ele in punc:  \n",
        "        doc1 = doc1.replace(ele, \" \") \n",
        "print(doc1)"
      ]
    },
    {
      "cell_type": "code",
      "execution_count": 14,
      "metadata": {
        "colab": {
          "base_uri": "https://localhost:8080/"
        },
        "id": "KZKiSEMMzdQi",
        "outputId": "7bd7a824-338f-4d11-e996-62bcdc505e64"
      },
      "outputs": [
        {
          "output_type": "stream",
          "name": "stdout",
          "text": [
            "['hiii   hello how are you  ', 'hello   how are you feeling dear ramana akkireddy ', 'heyy buddy vijaya  ']\n"
          ]
        }
      ],
      "source": [
        "for i in range(0,len(l)):\n",
        "  for ele in l[i]:\n",
        "    if ele in punc:\n",
        "       l[i]=l[i].replace(ele,\" \")\n",
        "print(l)"
      ]
    },
    {
      "cell_type": "code",
      "execution_count": 15,
      "metadata": {
        "colab": {
          "base_uri": "https://localhost:8080/"
        },
        "id": "qmX07xbVzx-M",
        "outputId": "61f0fa70-ffee-49af-d0a1-af3d6024e101"
      },
      "outputs": [
        {
          "output_type": "stream",
          "name": "stdout",
          "text": [
            "['hiii', 'hello', 'how', 'are', 'you', 'hello', 'how', 'are', 'you', 'feeling', 'dear', 'ramana', 'akkireddy', 'heyy', 'buddy', 'vijaya']\n",
            "['hiii', 'hello', 'how', 'you', 'hello', 'how', 'you', 'feeling', 'dear', 'ramana', 'akkireddy', 'heyy', 'buddy', 'vijaya']\n",
            "{'hiii': [0], 'feeling': [1], 'akkireddy': [1], 'buddy': [2], 'ramana': [1], 'vijaya': [2], 'hello': [0, 1], 'how': [0, 1], 'you': [0, 1], 'heyy': [2], 'dear': [1]}\n"
          ]
        }
      ],
      "source": [
        "r=[]\n",
        "# Remove multiple empty spaces from string List\n",
        "# Using loop + strip()\n",
        "for i in range(0,len(l)):\n",
        "  z=l[i].split(\" \")\n",
        "  res = []\n",
        "  for ele in z:\n",
        "     if ele.strip():\n",
        "        res.append(ele)\n",
        "  r.extend(res)\n",
        "print(r)\n",
        "f_stop=r\n",
        "#removing the stop words:\n",
        "for i in f_stop:\n",
        "    if i in stopwords:\n",
        "      f_stop.remove(i)\n",
        "print(f_stop)\n",
        "#remove duplicates and start indexing \n",
        "final=set(f_stop)\n",
        "d={}\n",
        "for i in final:\n",
        "  d.update({i:[]})\n",
        "for i in d.keys():\n",
        "  for j in range(0,len(l)):\n",
        "      if i in l[j]:\n",
        "        d[i].append(j)\n",
        "print(d)"
      ]
    },
    {
      "cell_type": "code",
      "execution_count": 16,
      "metadata": {
        "colab": {
          "base_uri": "https://localhost:8080/",
          "height": 54
        },
        "id": "l38z8KtNyZ1W",
        "outputId": "0a68dbcc-a972-4adc-b77d-ff3bdf682b8e"
      },
      "outputs": [
        {
          "output_type": "execute_result",
          "data": {
            "text/plain": [
              "'#positional indexes\\nd1={}\\nfor i in final:\\n  d1.update({i:{}})\\nfor i in d1.keys():\\n    for j in range(0,len(l)):\\n            d1[i].update({j:[]})\\nfor i in d1.keys():\\n   for j in range(0,len(l)):\\n        t=list(l[j].split(\" \"))\\n        for f in range(0,len(t)):\\n           if i in t:\\n             z=t.index(i)\\n             t.remove(i)\\n             d1[i][j].append(z)\\nprint(d1) '"
            ],
            "application/vnd.google.colaboratory.intrinsic+json": {
              "type": "string"
            }
          },
          "metadata": {},
          "execution_count": 16
        }
      ],
      "source": [
        "'''#positional indexes\n",
        "d1={}\n",
        "for i in final:\n",
        "  d1.update({i:{}})\n",
        "for i in d1.keys():\n",
        "    for j in range(0,len(l)):\n",
        "            d1[i].update({j:[]})\n",
        "for i in d1.keys():\n",
        "   for j in range(0,len(l)):\n",
        "        t=list(l[j].split(\" \"))\n",
        "        for f in range(0,len(t)):\n",
        "           if i in t:\n",
        "             z=t.index(i)\n",
        "             t.remove(i)\n",
        "             d1[i][j].append(z)\n",
        "print(d1) '''\n"
      ]
    },
    {
      "cell_type": "code",
      "execution_count": 16,
      "metadata": {
        "id": "iNbr5MyW2eMD"
      },
      "outputs": [],
      "source": []
    },
    {
      "cell_type": "code",
      "execution_count": 17,
      "metadata": {
        "id": "L06H0nC1zFIA"
      },
      "outputs": [],
      "source": [
        "def intersection_words(s1,s2):\n",
        "              p1=s1\n",
        "              p2=s2\n",
        "              l=[]\n",
        "              i=0\n",
        "              j=0\n",
        "              if(len(p1)==0 and len(p2)!=0):\n",
        "                  return p2\n",
        "              elif(len(p2)==0 and len(p1)!=0):\n",
        "                 return p1\n",
        "              while(i<len(p1) and j<len(p2)):\n",
        "                         if(p1[i]==p2[j]):\n",
        "                                 l.append(p1[i])\n",
        "                                 i=i+1\n",
        "                                 j=j+1\n",
        "                         elif(p1[i]<p2[j]):\n",
        "                                  i=i+1\n",
        "                         elif(p1[i]>p2[j]):\n",
        "                                  j=j+1\n",
        "              return l"
      ]
    },
    {
      "cell_type": "code",
      "execution_count": 18,
      "metadata": {
        "colab": {
          "base_uri": "https://localhost:8080/"
        },
        "id": "ETKAs1Mh5Ls0",
        "outputId": "e19bf6cb-779e-45d9-bb53-6c84f6b6b4dd"
      },
      "outputs": [
        {
          "output_type": "stream",
          "name": "stdout",
          "text": [
            "[]\n"
          ]
        }
      ],
      "source": [
        "print(intersection_words([1],[2]))"
      ]
    },
    {
      "cell_type": "code",
      "execution_count": 19,
      "metadata": {
        "id": "Z08hegWR0p0n"
      },
      "outputs": [],
      "source": [
        "def or_operation(s1,s2):\n",
        "     if(len(s1)==0):\n",
        "         return s2\n",
        "     elif(len(s2)==0):\n",
        "        return s1\n",
        "     else:\n",
        "        k=set(s1)\n",
        "        l=set(s2)\n",
        "        t=k.union(l)\n",
        "        return list(t)"
      ]
    },
    {
      "cell_type": "code",
      "execution_count": 20,
      "metadata": {
        "colab": {
          "base_uri": "https://localhost:8080/"
        },
        "id": "MtZ0JMy-18Qm",
        "outputId": "bd0802f1-dc3b-4508-bba2-31687b7de87e"
      },
      "outputs": [
        {
          "output_type": "execute_result",
          "data": {
            "text/plain": [
              "[2]"
            ]
          },
          "metadata": {},
          "execution_count": 20
        }
      ],
      "source": [
        "or_operation([2],[2])"
      ]
    },
    {
      "cell_type": "code",
      "execution_count": 28,
      "metadata": {
        "colab": {
          "base_uri": "https://localhost:8080/"
        },
        "id": "xXDx1z46-AHu",
        "outputId": "91b738bd-ce5c-4725-df35-be5b52d945c7"
      },
      "outputs": [
        {
          "output_type": "stream",
          "name": "stdout",
          "text": [
            "enter the queryhiii and vijaya or ramana and not buddy\n",
            "['hiii', 'and', 'vijaya', 'or', 'ramana', 'and', 'not', 'buddy']\n",
            "['hiii', 'vijaya', 'and', 'ramana', 'buddy', 'not', 'and', 'or']\n"
          ]
        }
      ],
      "source": [
        "#conversion of infix to postfix expression of given queries\n",
        "s1=input(\"enter the query\")\n",
        "s=s1.lower()\n",
        "l=s.split(\" \")\n",
        "print(l)\n",
        "post=\"\"\n",
        "p_fix=[]\n",
        "res=[]\n",
        "for i in range(0,len(l)):\n",
        "   if(l[i]==\"not\"):\n",
        "        p_fix.append(l[i])\n",
        "   elif(l[i]==\"and\"):\n",
        "        if len(p_fix)==0:\n",
        "            p_fix.append(l[i])\n",
        "        else:\n",
        "               while(len(p_fix)!=0 and p_fix[len(p_fix)-1]!=\"or\"):\n",
        "                   if p_fix[len(p_fix)-1]=='not' or p_fix[len(p_fix)-1]=='and' :\n",
        "                      z=p_fix.pop()\n",
        "                      res.append(z)\n",
        "               p_fix.append(l[i])\n",
        "   elif(l[i]==\"or\"):\n",
        "        if len(p_fix)==0:\n",
        "            p_fix.append(l[i])\n",
        "        else:\n",
        "               while(len(p_fix)!=0):\n",
        "                   if p_fix[len(p_fix)-1]=='or' or p_fix[len(p_fix)-1]=='and' or p_fix[len(p_fix)-1]==\"not\":\n",
        "                      z=p_fix.pop()\n",
        "                      res.append(z)\n",
        "               p_fix.append(l[i])\n",
        "   else:\n",
        "    post=post+l[i]\n",
        "    res.append(l[i])\n",
        "   #print(res)\n",
        "   #print(p_fix)\n",
        "while(len(p_fix)!=0):\n",
        "  k1=p_fix.pop()\n",
        "  res.append(k1)\n",
        "print(res)\n",
        "#print(post)\n",
        "\n",
        "       "
      ]
    },
    {
      "cell_type": "code",
      "execution_count": 23,
      "metadata": {
        "id": "vXC6Ls3QwhPm"
      },
      "outputs": [],
      "source": [
        "#implementing not:\n",
        "def not_operation(ls):\n",
        "    k=[ i  for i in range(0,len(l))]\n",
        "    d=set(k)-set(ls)\n",
        "    return list(d)#list of all documents\n"
      ]
    },
    {
      "cell_type": "code",
      "execution_count": 29,
      "metadata": {
        "colab": {
          "base_uri": "https://localhost:8080/"
        },
        "id": "3o1R3BJVH9xS",
        "outputId": "bdd9e61a-4e30-4562-f8be-fe36649b9cc6"
      },
      "outputs": [
        {
          "output_type": "stream",
          "name": "stdout",
          "text": [
            "hiii\n",
            "vijaya\n",
            "ramana\n",
            "buddy\n"
          ]
        }
      ],
      "source": [
        "#print(res)\n",
        "z=[]\n",
        "i=0\n",
        "while(i<len(res)):\n",
        "  if(res[i]==\"not\"):\n",
        "     r1=z.pop()\n",
        "     sp=not_operation(r1)\n",
        "     z.append(sp)\n",
        "  elif(res[i]=='and'):\n",
        "        #print(res[i])\n",
        "        r1=z.pop()\n",
        "        #print(r1)\n",
        "        r2=z.pop() \n",
        "        #print(r2)\n",
        "        k=intersection_words(r1,r2)\n",
        "        #print(k)\n",
        "        z.append(k)\n",
        "  elif(res[i]=='or'):\n",
        "        r1=z.pop()\n",
        "        r2=z.pop()\n",
        "        k=or_operation(r1,r2)\n",
        "        z.append(k)\n",
        "  else:\n",
        "        print(res[i])\n",
        "        if(res[i] in d.keys()):\n",
        "              #print(res[i])\n",
        "              z.append(d[res[i]])\n",
        "              #print(z)\n",
        "        else:\n",
        "            z.append([])\n",
        "  i=i+1 "
      ]
    },
    {
      "cell_type": "code",
      "execution_count": 30,
      "metadata": {
        "colab": {
          "base_uri": "https://localhost:8080/"
        },
        "id": "z_9NgmJwJ78H",
        "outputId": "41f0963b-8e24-48dd-e779-32678a8c83ee"
      },
      "outputs": [
        {
          "output_type": "stream",
          "name": "stdout",
          "text": [
            "[[1]]\n"
          ]
        }
      ],
      "source": [
        "print(z)"
      ]
    },
    {
      "cell_type": "code",
      "execution_count": null,
      "metadata": {
        "colab": {
          "base_uri": "https://localhost:8080/"
        },
        "id": "OSws9TOmzlNh",
        "outputId": "de832b8a-327c-4a28-b2a9-0300f0f0bd3a"
      },
      "outputs": [
        {
          "name": "stdout",
          "output_type": "stream",
          "text": [
            "dict_items([('heyy', [2]), ('vijaya', [2]), ('buddy', [2]), ('feeling', [1]), ('hello', [0, 1]), ('akkireddy', [1]), ('hiii', [0]), ('ramana', [1]), ('you', [0, 1]), ('dear', [1]), ('how', [0, 1])])\n"
          ]
        }
      ],
      "source": [
        "print(d.items())"
      ]
    },
    {
      "cell_type": "code",
      "execution_count": null,
      "metadata": {
        "id": "AADNgGMLweIs"
      },
      "outputs": [],
      "source": []
    },
    {
      "cell_type": "markdown",
      "metadata": {
        "id": "0XBPKxkIytqT"
      },
      "source": [
        "'''elif res[i]=='or':\n",
        "        r1=z.pop()\n",
        "        r2=z.pop()\n",
        "        k=intersection_words_or(r1,r2)\n",
        "        z.append(k)'''"
      ]
    }
  ],
  "metadata": {
    "colab": {
      "provenance": [],
      "include_colab_link": true
    },
    "kernelspec": {
      "display_name": "Python 3",
      "name": "python3"
    },
    "language_info": {
      "name": "python"
    }
  },
  "nbformat": 4,
  "nbformat_minor": 0
}