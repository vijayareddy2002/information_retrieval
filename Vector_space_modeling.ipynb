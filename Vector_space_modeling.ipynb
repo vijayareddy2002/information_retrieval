{
  "nbformat": 4,
  "nbformat_minor": 0,
  "metadata": {
    "colab": {
      "provenance": [],
      "authorship_tag": "ABX9TyNHX7YQXioZpLywhdwLMr54",
      "include_colab_link": true
    },
    "kernelspec": {
      "name": "python3",
      "display_name": "Python 3"
    },
    "language_info": {
      "name": "python"
    }
  },
  "cells": [
    {
      "cell_type": "markdown",
      "metadata": {
        "id": "view-in-github",
        "colab_type": "text"
      },
      "source": [
        "<a href=\"https://colab.research.google.com/github/vijayareddy2002/information_retrieval/blob/main/Vector_space_modeling.ipynb\" target=\"_parent\"><img src=\"https://colab.research.google.com/assets/colab-badge.svg\" alt=\"Open In Colab\"/></a>"
      ]
    },
    {
      "cell_type": "code",
      "source": [
        "import nltk\n",
        "nltk.download('stopwords')\n",
        "nltk.download('punkt')\n",
        "from nltk.corpus import stopwords\n",
        "from nltk.tokenize import word_tokenize"
      ],
      "metadata": {
        "colab": {
          "base_uri": "https://localhost:8080/"
        },
        "id": "euv0PaIkTp-S",
        "outputId": "f9b59900-d8e3-4e69-b540-b263e527388e"
      },
      "execution_count": 34,
      "outputs": [
        {
          "output_type": "stream",
          "name": "stderr",
          "text": [
            "[nltk_data] Downloading package stopwords to /root/nltk_data...\n",
            "[nltk_data]   Package stopwords is already up-to-date!\n",
            "[nltk_data] Downloading package punkt to /root/nltk_data...\n",
            "[nltk_data]   Package punkt is already up-to-date!\n"
          ]
        }
      ]
    },
    {
      "cell_type": "code",
      "execution_count": 35,
      "metadata": {
        "id": "npe59g_uP4iP"
      },
      "outputs": [],
      "source": [
        "doc1=\"vijaya studies ir in ir lab teaching by ir mam\""
      ]
    },
    {
      "cell_type": "code",
      "source": [
        "doc2=\"aparna teaches at rvrcollege\""
      ],
      "metadata": {
        "id": "uGpYmSzJQ0t9"
      },
      "execution_count": 36,
      "outputs": []
    },
    {
      "cell_type": "code",
      "source": [
        "doc3=\"data scientists work on large datasets\""
      ],
      "metadata": {
        "id": "SfPp8QTKQ6W3"
      },
      "execution_count": 37,
      "outputs": []
    },
    {
      "cell_type": "code",
      "source": [
        "l1=[doc1,doc2,doc3]"
      ],
      "metadata": {
        "id": "UN30ompMVJVZ"
      },
      "execution_count": 54,
      "outputs": []
    },
    {
      "cell_type": "code",
      "source": [
        "l1"
      ],
      "metadata": {
        "colab": {
          "base_uri": "https://localhost:8080/"
        },
        "id": "5iKQYMy8xxdL",
        "outputId": "61f07184-e9d8-46d5-b911-5ba6ad13fbfc"
      },
      "execution_count": 55,
      "outputs": [
        {
          "output_type": "execute_result",
          "data": {
            "text/plain": [
              "['vijaya studies ir in ir lab teaching by ir mam',\n",
              " 'aparna teaches at rvrcollege',\n",
              " 'data scientists work on large datasets']"
            ]
          },
          "metadata": {},
          "execution_count": 55
        }
      ]
    },
    {
      "cell_type": "code",
      "source": [
        "\n",
        "def stopwords_remove(example_sent):\n",
        "  \n",
        "    stop_words = set(stopwords.words('english'))\n",
        "  \n",
        "    word_tokens = word_tokenize(example_sent)\n",
        "# converts the words in word_tokens to lower case and then checks whether \n",
        "#they are present in stop_words or not\n",
        "    filtered_sentence = [w for w in word_tokens if not w.lower() in stop_words]\n",
        "#with no lower case conversion\n",
        "    filtered_sentence = []\n",
        "  \n",
        "    for w in word_tokens:\n",
        "        if w not in stop_words:\n",
        "            filtered_sentence.append(w)\n",
        "    k=\" \".join(filtered_sentence)\n",
        "    return k"
      ],
      "metadata": {
        "id": "vLYThza5S0ih"
      },
      "execution_count": 43,
      "outputs": []
    },
    {
      "cell_type": "code",
      "source": [
        "l2=[]\n",
        "for  i in l1:\n",
        "  l2.append(stopwords_remove(i))"
      ],
      "metadata": {
        "id": "nhvjE2BWUjai"
      },
      "execution_count": 44,
      "outputs": []
    },
    {
      "cell_type": "code",
      "source": [
        "l2"
      ],
      "metadata": {
        "colab": {
          "base_uri": "https://localhost:8080/"
        },
        "id": "ADoV6WA9VUUb",
        "outputId": "f98d3c84-1d89-4384-d561-facfe88a92b1"
      },
      "execution_count": 45,
      "outputs": [
        {
          "output_type": "execute_result",
          "data": {
            "text/plain": [
              "['vijaya studies ir ir lab teaching ir mam',\n",
              " 'aparna teaches rvrcollege',\n",
              " 'data scientists work large datasets']"
            ]
          },
          "metadata": {},
          "execution_count": 45
        }
      ]
    },
    {
      "cell_type": "code",
      "source": [
        "l3=l2"
      ],
      "metadata": {
        "id": "RPEhcBuOwLOL"
      },
      "execution_count": 46,
      "outputs": []
    },
    {
      "cell_type": "code",
      "source": [
        "ks1=[]\n",
        "for i in range(0,len(l3)):\n",
        "  ks1.extend(l3[i].lower().split(\" \"))\n"
      ],
      "metadata": {
        "id": "1OzXWm5Gt4nC"
      },
      "execution_count": 66,
      "outputs": []
    },
    {
      "cell_type": "code",
      "source": [
        "ks1"
      ],
      "metadata": {
        "colab": {
          "base_uri": "https://localhost:8080/"
        },
        "id": "lkF0Qin6uBdr",
        "outputId": "503b62e3-2c39-43de-8ad8-1baf01ace420"
      },
      "execution_count": 67,
      "outputs": [
        {
          "output_type": "execute_result",
          "data": {
            "text/plain": [
              "['vijaya',\n",
              " 'studies',\n",
              " 'ir',\n",
              " 'ir',\n",
              " 'lab',\n",
              " 'teaching',\n",
              " 'ir',\n",
              " 'mam',\n",
              " 'aparna',\n",
              " 'teaches',\n",
              " 'rvrcollege',\n",
              " 'data',\n",
              " 'scientists',\n",
              " 'work',\n",
              " 'large',\n",
              " 'datasets']"
            ]
          },
          "metadata": {},
          "execution_count": 67
        }
      ]
    },
    {
      "cell_type": "code",
      "source": [
        "s=set(ks1)\n",
        "ks2=list(s)\n",
        "print(ks2)"
      ],
      "metadata": {
        "colab": {
          "base_uri": "https://localhost:8080/"
        },
        "id": "EAWemvTGykeW",
        "outputId": "94ccaef0-b4ff-4ef3-d345-f9bd83dff14a"
      },
      "execution_count": 72,
      "outputs": [
        {
          "output_type": "stream",
          "name": "stdout",
          "text": [
            "['teaching', 'data', 'large', 'vijaya', 'lab', 'studies', 'aparna', 'work', 'ir', 'mam', 'teaches', 'scientists', 'datasets', 'rvrcollege']\n"
          ]
        }
      ]
    },
    {
      "cell_type": "code",
      "source": [
        "ks=sorted(ks2)"
      ],
      "metadata": {
        "id": "8Do9hq_Jy4u-"
      },
      "execution_count": 73,
      "outputs": []
    },
    {
      "cell_type": "code",
      "source": [
        "ks"
      ],
      "metadata": {
        "colab": {
          "base_uri": "https://localhost:8080/"
        },
        "id": "ST4zKXRDy-Yq",
        "outputId": "f0879d3a-8c0c-47ce-85f0-b3cf04fcd555"
      },
      "execution_count": 74,
      "outputs": [
        {
          "output_type": "execute_result",
          "data": {
            "text/plain": [
              "['aparna',\n",
              " 'data',\n",
              " 'datasets',\n",
              " 'ir',\n",
              " 'lab',\n",
              " 'large',\n",
              " 'mam',\n",
              " 'rvrcollege',\n",
              " 'scientists',\n",
              " 'studies',\n",
              " 'teaches',\n",
              " 'teaching',\n",
              " 'vijaya',\n",
              " 'work']"
            ]
          },
          "metadata": {},
          "execution_count": 74
        }
      ]
    },
    {
      "cell_type": "code",
      "source": [
        "#claculating term frequency\n",
        "def termfrequency(doc,ks):\n",
        "  nf=[]\n",
        "  z=doc.lower().split(\" \")\n",
        "  for i in ks:\n",
        "    if i in z:\n",
        "      k=z.count(i)\n",
        "      nf.append(k)\n",
        "    else:\n",
        "      nf.append(0)\n",
        "  return nf"
      ],
      "metadata": {
        "id": "nciPQAE0RY8z"
      },
      "execution_count": 75,
      "outputs": []
    },
    {
      "cell_type": "code",
      "source": [
        "term_frequency=[]\n",
        "p_doc_term_freq=[]\n",
        "for i in range(0,len(l2)):\n",
        "    #print(type(l2[i])\n",
        "    zw=termfrequency(l2[i],ks)\n",
        "    term_frequency.append(zw)\n",
        "print(term_frequency)\n"
      ],
      "metadata": {
        "colab": {
          "base_uri": "https://localhost:8080/"
        },
        "id": "2EqiH2OPSmh8",
        "outputId": "5a3f2504-816c-41ac-9977-bb40ca07af36"
      },
      "execution_count": 76,
      "outputs": [
        {
          "output_type": "stream",
          "name": "stdout",
          "text": [
            "[[0, 0, 0, 3, 1, 0, 1, 0, 0, 1, 0, 1, 1, 0], [1, 0, 0, 0, 0, 0, 0, 1, 0, 0, 1, 0, 0, 0], [0, 1, 1, 0, 0, 1, 0, 0, 1, 0, 0, 0, 0, 1]]\n"
          ]
        }
      ]
    },
    {
      "cell_type": "code",
      "source": [
        "def remove_duplicates(doc):\n",
        "   s=doc.lower().split(\" \")\n",
        "   d=set(s)\n",
        "   c=list(d)\n",
        "   return c"
      ],
      "metadata": {
        "id": "BPgnf49GZCi3"
      },
      "execution_count": 77,
      "outputs": []
    },
    {
      "cell_type": "code",
      "source": [
        "#idf---n(t)==no of documents that term occurs\n",
        "#SPLIT AND MERGE THE WORDS BY REMOVING REPEATED WORDS\n",
        "xp=[]\n",
        "for i in range(0,len(l2)):\n",
        "  xp.extend(remove_duplicates(l2[i]))\n",
        "print(xp)\n",
        "\n",
        "\n"
      ],
      "metadata": {
        "colab": {
          "base_uri": "https://localhost:8080/"
        },
        "id": "ntNkIpLRWwuP",
        "outputId": "cc3491d6-a57b-4a8b-87de-aa5bd83f5376"
      },
      "execution_count": 87,
      "outputs": [
        {
          "output_type": "stream",
          "name": "stdout",
          "text": [
            "['teaching', 'vijaya', 'lab', 'studies', 'ir', 'mam', 'aparna', 'teaches', 'rvrcollege', 'data', 'large', 'work', 'scientists', 'datasets']\n"
          ]
        }
      ]
    },
    {
      "cell_type": "code",
      "source": [
        "sorted_xp=sorted(xp)"
      ],
      "metadata": {
        "id": "9MhnQSlqsKTQ"
      },
      "execution_count": 88,
      "outputs": []
    },
    {
      "cell_type": "code",
      "source": [
        "import math\n",
        "idf=[]\n",
        "for i in range(0,len(sorted_xp)):\n",
        "  c=0\n",
        "  for j in range(0,len(l2)):\n",
        "    if sorted_xp[i] in l2[j]:\n",
        "      c=c+1\n",
        "  if(c!=0):\n",
        "       idf1=math.log(len(l2)/c,2)#base-2\n",
        "       idf.append((sorted_xp[i],idf1))\n",
        "  \n"
      ],
      "metadata": {
        "id": "GYRydci1Zprz"
      },
      "execution_count": 90,
      "outputs": []
    },
    {
      "cell_type": "code",
      "source": [
        "print(idf)"
      ],
      "metadata": {
        "colab": {
          "base_uri": "https://localhost:8080/"
        },
        "id": "a8Dk50EEbZOO",
        "outputId": "013e11ca-7c98-4d4b-998f-e2f61c3c1560"
      },
      "execution_count": 91,
      "outputs": [
        {
          "output_type": "stream",
          "name": "stdout",
          "text": [
            "[('aparna', 1.5849625007211563), ('data', 1.5849625007211563), ('datasets', 1.5849625007211563), ('ir', 1.5849625007211563), ('lab', 1.5849625007211563), ('large', 1.5849625007211563), ('mam', 1.5849625007211563), ('rvrcollege', 1.5849625007211563), ('scientists', 1.5849625007211563), ('studies', 1.5849625007211563), ('teaches', 1.5849625007211563), ('teaching', 1.5849625007211563), ('vijaya', 1.5849625007211563), ('work', 1.5849625007211563)]\n"
          ]
        }
      ]
    },
    {
      "cell_type": "code",
      "source": [
        "d={}\n",
        "for i in range(0,len(idf)):\n",
        "  d.update({idf[i][0]:idf[i][1]})\n"
      ],
      "metadata": {
        "id": "HXl-nd8MbwZG"
      },
      "execution_count": 92,
      "outputs": []
    },
    {
      "cell_type": "code",
      "source": [
        "print(d)"
      ],
      "metadata": {
        "colab": {
          "base_uri": "https://localhost:8080/"
        },
        "id": "DNsiXlhecA6_",
        "outputId": "71066bd3-a6e5-41ae-e0b8-8a863c6699fc"
      },
      "execution_count": 93,
      "outputs": [
        {
          "output_type": "stream",
          "name": "stdout",
          "text": [
            "{'aparna': 1.5849625007211563, 'data': 1.5849625007211563, 'datasets': 1.5849625007211563, 'ir': 1.5849625007211563, 'lab': 1.5849625007211563, 'large': 1.5849625007211563, 'mam': 1.5849625007211563, 'rvrcollege': 1.5849625007211563, 'scientists': 1.5849625007211563, 'studies': 1.5849625007211563, 'teaches': 1.5849625007211563, 'teaching': 1.5849625007211563, 'vijaya': 1.5849625007211563, 'work': 1.5849625007211563}\n"
          ]
        }
      ]
    },
    {
      "cell_type": "code",
      "source": [
        "print(len(ks))"
      ],
      "metadata": {
        "colab": {
          "base_uri": "https://localhost:8080/"
        },
        "id": "JU8MYEBt04Zu",
        "outputId": "059041f8-dbff-41f5-b4b0-10479cfc611a"
      },
      "execution_count": 94,
      "outputs": [
        {
          "output_type": "stream",
          "name": "stdout",
          "text": [
            "14\n"
          ]
        }
      ]
    },
    {
      "cell_type": "code",
      "source": [
        "print(len(term_frequency[0]))"
      ],
      "metadata": {
        "colab": {
          "base_uri": "https://localhost:8080/"
        },
        "id": "6AK6WUGr06qt",
        "outputId": "7089c7da-1bfe-4149-9b55-8acf3b2e84ed"
      },
      "execution_count": 95,
      "outputs": [
        {
          "output_type": "stream",
          "name": "stdout",
          "text": [
            "14\n"
          ]
        }
      ]
    },
    {
      "cell_type": "code",
      "source": [
        "for i in range(0,len(term_frequency)):\n",
        "  sx=[]\n",
        "  for j in range(0,len(ks)):\n",
        "    term_frequency[i][j]=term_frequency[i][j]*d[ks[j]]\n",
        "\n",
        "\n"
      ],
      "metadata": {
        "id": "8HOfcoRd0j8U"
      },
      "execution_count": 96,
      "outputs": []
    },
    {
      "cell_type": "code",
      "source": [
        "print(term_frequency)"
      ],
      "metadata": {
        "colab": {
          "base_uri": "https://localhost:8080/"
        },
        "id": "RnWaer1a1NB7",
        "outputId": "d4b050c3-0811-4bab-9d46-b247fc39b073"
      },
      "execution_count": 97,
      "outputs": [
        {
          "output_type": "stream",
          "name": "stdout",
          "text": [
            "[[0.0, 0.0, 0.0, 4.754887502163469, 1.5849625007211563, 0.0, 1.5849625007211563, 0.0, 0.0, 1.5849625007211563, 0.0, 1.5849625007211563, 1.5849625007211563, 0.0], [1.5849625007211563, 0.0, 0.0, 0.0, 0.0, 0.0, 0.0, 1.5849625007211563, 0.0, 0.0, 1.5849625007211563, 0.0, 0.0, 0.0], [0.0, 1.5849625007211563, 1.5849625007211563, 0.0, 0.0, 1.5849625007211563, 0.0, 0.0, 1.5849625007211563, 0.0, 0.0, 0.0, 0.0, 1.5849625007211563]]\n"
          ]
        }
      ]
    },
    {
      "cell_type": "code",
      "source": [
        "query=input(\"enter query\")\n",
        "qs=query.lower().split(\" \")\n",
        "ql=[]\n",
        "for i in range(0,len(ks)):\n",
        "  if ks[i] in qs:\n",
        "    ql.append(qs.count(ks[i]))#we should divide with max term frequency --->\n",
        "  else:\n",
        "    ql.append(0)\n"
      ],
      "metadata": {
        "colab": {
          "base_uri": "https://localhost:8080/"
        },
        "id": "EoLbMc941YTR",
        "outputId": "c245fd14-bcdc-47f8-f079-0e43a864ccb8"
      },
      "execution_count": 98,
      "outputs": [
        {
          "name": "stdout",
          "output_type": "stream",
          "text": [
            "enter queryaparna vijaya ir\n"
          ]
        }
      ]
    },
    {
      "cell_type": "code",
      "source": [
        "ql"
      ],
      "metadata": {
        "colab": {
          "base_uri": "https://localhost:8080/"
        },
        "id": "VHSEDRfK2YJ7",
        "outputId": "6d230936-1535-46cd-f3b0-5560596cb3ba"
      },
      "execution_count": 99,
      "outputs": [
        {
          "output_type": "execute_result",
          "data": {
            "text/plain": [
              "[1, 0, 0, 1, 0, 0, 0, 0, 0, 0, 0, 0, 1, 0]"
            ]
          },
          "metadata": {},
          "execution_count": 99
        }
      ]
    },
    {
      "cell_type": "code",
      "source": [
        "len(ql)"
      ],
      "metadata": {
        "colab": {
          "base_uri": "https://localhost:8080/"
        },
        "id": "Tbyx-ECE2aMp",
        "outputId": "d9da6b00-acdd-43f7-bea9-5c61bb558949"
      },
      "execution_count": 100,
      "outputs": [
        {
          "output_type": "execute_result",
          "data": {
            "text/plain": [
              "14"
            ]
          },
          "metadata": {},
          "execution_count": 100
        }
      ]
    },
    {
      "cell_type": "code",
      "source": [
        "#tf-idf for query"
      ],
      "metadata": {
        "id": "RF4Z7aI-2hu8"
      },
      "execution_count": null,
      "outputs": []
    },
    {
      "cell_type": "code",
      "source": [
        "for i in range(0,len(ks)):\n",
        "   ql[i]=ql[i]*d[ks[i]]"
      ],
      "metadata": {
        "id": "AfKPF3kZ2lHU"
      },
      "execution_count": 101,
      "outputs": []
    },
    {
      "cell_type": "code",
      "source": [
        "ql"
      ],
      "metadata": {
        "colab": {
          "base_uri": "https://localhost:8080/"
        },
        "id": "rDr2UeoR2wkI",
        "outputId": "3bf289f0-ac17-49a4-b6a2-eddbf9d3ad27"
      },
      "execution_count": 102,
      "outputs": [
        {
          "output_type": "execute_result",
          "data": {
            "text/plain": [
              "[1.5849625007211563,\n",
              " 0.0,\n",
              " 0.0,\n",
              " 1.5849625007211563,\n",
              " 0.0,\n",
              " 0.0,\n",
              " 0.0,\n",
              " 0.0,\n",
              " 0.0,\n",
              " 0.0,\n",
              " 0.0,\n",
              " 0.0,\n",
              " 1.5849625007211563,\n",
              " 0.0]"
            ]
          },
          "metadata": {},
          "execution_count": 102
        }
      ]
    },
    {
      "cell_type": "code",
      "source": [
        "import numpy as np\n",
        "from numpy.linalg import norm"
      ],
      "metadata": {
        "id": "qXoCPsOU3AHL"
      },
      "execution_count": 108,
      "outputs": []
    },
    {
      "cell_type": "code",
      "source": [
        "qu=np.array(ql)"
      ],
      "metadata": {
        "id": "8OYxCcfI32rM"
      },
      "execution_count": 109,
      "outputs": []
    },
    {
      "cell_type": "code",
      "source": [
        "m_ex=[]\n",
        "for i in range(0,len(term_frequency)):\n",
        "  f=np.array(term_frequency[i])\n",
        "  cosine = np.dot(f,qu)/(norm(f)*norm(qu))\n",
        "  m_ex.append(cosine)\n",
        "\n"
      ],
      "metadata": {
        "id": "my-XuIli4Ic8"
      },
      "execution_count": 111,
      "outputs": []
    },
    {
      "cell_type": "code",
      "source": [
        "m_ex"
      ],
      "metadata": {
        "colab": {
          "base_uri": "https://localhost:8080/"
        },
        "id": "Kim9Cc4e4qiP",
        "outputId": "285fc356-9d38-4824-e4aa-bcbec80b49ff"
      },
      "execution_count": 112,
      "outputs": [
        {
          "output_type": "execute_result",
          "data": {
            "text/plain": [
              "[0.6172133998483678, 0.33333333333333337, 0.0]"
            ]
          },
          "metadata": {},
          "execution_count": 112
        }
      ]
    },
    {
      "cell_type": "code",
      "source": [
        "related_docnum=m_ex.index(max(m_ex))"
      ],
      "metadata": {
        "id": "waFwc0uQ4y_F"
      },
      "execution_count": 114,
      "outputs": []
    },
    {
      "cell_type": "code",
      "source": [
        "related_docnum+=1"
      ],
      "metadata": {
        "id": "eK7ad0WF47dU"
      },
      "execution_count": 117,
      "outputs": []
    },
    {
      "cell_type": "code",
      "source": [
        "print(\"the related document is :\",related_docnum)"
      ],
      "metadata": {
        "colab": {
          "base_uri": "https://localhost:8080/"
        },
        "id": "FFvSD6Z-5BAM",
        "outputId": "d5055ef3-29aa-4491-a78b-9eedf3908819"
      },
      "execution_count": 118,
      "outputs": [
        {
          "output_type": "stream",
          "name": "stdout",
          "text": [
            "the related document is : 1\n"
          ]
        }
      ]
    }
  ]
}