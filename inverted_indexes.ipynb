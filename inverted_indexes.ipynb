{
  "nbformat": 4,
  "nbformat_minor": 0,
  "metadata": {
    "colab": {
      "provenance": [],
      "collapsed_sections": [],
      "authorship_tag": "ABX9TyPKc0zDB16sQYWt5ltw5MqX",
      "include_colab_link": true
    },
    "kernelspec": {
      "name": "python3",
      "display_name": "Python 3"
    },
    "language_info": {
      "name": "python"
    }
  },
  "cells": [
    {
      "cell_type": "markdown",
      "metadata": {
        "id": "view-in-github",
        "colab_type": "text"
      },
      "source": [
        "<a href=\"https://colab.research.google.com/github/vijayareddy2002/information_retrieval/blob/main/inverted_indexes.ipynb\" target=\"_parent\"><img src=\"https://colab.research.google.com/assets/colab-badge.svg\" alt=\"Open In Colab\"/></a>"
      ]
    },
    {
      "cell_type": "code",
      "execution_count": 2,
      "metadata": {
        "id": "eUlVP2Foo_N-"
      },
      "outputs": [],
      "source": [
        "doc1=\"hi hello how are you\""
      ]
    },
    {
      "cell_type": "code",
      "source": [
        "doc2=\"hello how are you feeling dear\""
      ],
      "metadata": {
        "id": "inMAjK1XpD7i"
      },
      "execution_count": 3,
      "outputs": []
    },
    {
      "cell_type": "code",
      "source": [
        "doc3=\"heyy buddy\""
      ],
      "metadata": {
        "id": "7zjRr-D5pIK5"
      },
      "execution_count": 4,
      "outputs": []
    },
    {
      "cell_type": "code",
      "source": [
        "l=[doc1,doc2,doc3]"
      ],
      "metadata": {
        "id": "ZGRmLf0qpM9w"
      },
      "execution_count": 5,
      "outputs": []
    },
    {
      "cell_type": "code",
      "source": [
        "print(l)"
      ],
      "metadata": {
        "colab": {
          "base_uri": "https://localhost:8080/"
        },
        "id": "3NdJp6HNpP0Z",
        "outputId": "1e5d6840-cf88-462f-9b99-3c321f5548cb"
      },
      "execution_count": 6,
      "outputs": [
        {
          "output_type": "stream",
          "name": "stdout",
          "text": [
            "['hi hello how are you', 'hello how are you feeling dear', 'heyy buddy']\n"
          ]
        }
      ]
    },
    {
      "cell_type": "code",
      "source": [
        "#trying with the stop words\n",
        "stopwords=['ourselves', 'hers', 'between', 'yourself', 'but', 'again', 'there', 'about', 'once', 'during', 'out', 'very','having','is','a','in','the','by','on','so','!','@','#','$','%','.','^','&','*','(',')','-','_','+','=','/']##\\??\n",
        "\n",
        "#‘with’, ‘they’, ‘own’, ‘an’, ‘be’, ‘some’, ‘for’, ‘do’, ‘its’, ‘yours’, ‘such’, ‘into’, ‘of’, ‘most’, ‘itself’, ‘other’, ‘off’, ‘is’, ‘s’,\n",
        "# ‘am’, ‘or’, ‘who’, ‘as’, ‘from’, ‘him’, ‘each’, ‘the’, ‘themselves’, ‘until’, ‘below’, ‘are’, ‘we’, ‘these’, ‘your’, ‘his’, ‘through’,\n",
        "# ‘don’, ‘nor’, ‘me’, ‘were’, ‘her’, ‘more’, ‘himself’, ‘this’, ‘down’, ‘should’, ‘our’, ‘their’, ‘while’, ‘above’, ‘both’, ‘up’, ‘to’, ‘ours’, ‘had’, ‘she’, ‘all’, ‘no’, ‘when’, ‘at’, ‘any’, ‘before’, ‘them’, ‘same’, ‘and’, \n",
        "#‘been’, ‘have’, ‘in’, ‘will’, ‘on’, ‘does’, ‘yourselves’, ‘then’, ‘that’, ‘because’, ‘what’, ‘over’, ‘why’, ‘so’, ‘can’, ‘did’, ‘not’, ‘now’, ‘under’, ‘he’, ‘you’, ‘herself’, ‘has’, ‘just’, ‘where’, ‘too’, ‘only’, ‘myself’, ‘which’, ‘those’, ‘i’, ‘after’, ‘few’, ‘whom’, \n",
        "#‘t’, ‘being’, ‘if’, ‘theirs’, ‘my’, ‘against’, ‘a’, ‘by’, ‘doing’, ‘it’, ‘how’, ‘further’, ‘was’, ‘here’, ‘than’]\n",
        "print(stopwords)"
      ],
      "metadata": {
        "colab": {
          "base_uri": "https://localhost:8080/"
        },
        "id": "r51uzJBnvta9",
        "outputId": "facac28e-e8fb-4131-d20d-1fc0e235427a"
      },
      "execution_count": 7,
      "outputs": [
        {
          "output_type": "stream",
          "name": "stdout",
          "text": [
            "['ourselves', 'hers', 'between', 'yourself', 'but', 'again', 'there', 'about', 'once', 'during', 'out', 'very', 'having', 'is', 'a', 'in', 'the', 'by', 'on', 'so', '!', '@', '#', '$', '%', '.', '^', '&', '*', '(', ')', '-', '_', '+', '=', '/']\n"
          ]
        }
      ]
    },
    {
      "cell_type": "code",
      "source": [
        "l1=[]\n",
        "for i in range(0,len(l)):\n",
        "   k=l[i].split(\" \")\n",
        "   l1.extend(k)\n",
        "print(l1)\n",
        "#removing the duplicates\n",
        "p=set(l1)\n",
        "print(p)\n",
        "d={}\n",
        "for i in p:\n",
        "  d.update({i:[]})\n",
        "print(d)\n",
        "for i in d.keys():\n",
        "      for j in range(0,len(l)):\n",
        "        if i in l[j]:\n",
        "             d[i].append(j)\n",
        "print(d)"
      ],
      "metadata": {
        "colab": {
          "base_uri": "https://localhost:8080/"
        },
        "id": "33T3mTEDpYSg",
        "outputId": "95d80542-5d15-48c2-a237-b2658f68697c"
      },
      "execution_count": 8,
      "outputs": [
        {
          "output_type": "stream",
          "name": "stdout",
          "text": [
            "['hi', 'hello', 'how', 'are', 'you', 'hello', 'how', 'are', 'you', 'feeling', 'dear', 'heyy', 'buddy']\n",
            "{'hi', 'dear', 'heyy', 'are', 'buddy', 'feeling', 'you', 'how', 'hello'}\n",
            "{'hi': [], 'dear': [], 'heyy': [], 'are': [], 'buddy': [], 'feeling': [], 'you': [], 'how': [], 'hello': []}\n",
            "{'hi': [0], 'dear': [1], 'heyy': [2], 'are': [0, 1], 'buddy': [2], 'feeling': [1], 'you': [0, 1], 'how': [0, 1], 'hello': [0, 1]}\n"
          ]
        }
      ]
    },
    {
      "cell_type": "code",
      "source": [
        "#trying with the stop words\n",
        "stopwords=['ourselves','are','the','is','and','or','hers','between','yourself','but','again','there','about','once','during','out','very','having','is','a','in','the','by','on','so','!','@','#','$','%','.','^','&','*','(',')','-','_','+','=','/']##\\??\n",
        "\n",
        "#‘with’, ‘they’, ‘own’, ‘an’, ‘be’, ‘some’, ‘for’, ‘do’, ‘its’, ‘yours’, ‘such’, ‘into’, ‘of’, ‘most’, ‘itself’, ‘other’, ‘off’, ‘is’, ‘s’,\n",
        "# ‘am’, ‘or’, ‘who’, ‘as’, ‘from’, ‘him’, ‘each’, ‘the’, ‘themselves’, ‘until’, ‘below’, ‘are’, ‘we’, ‘these’, ‘your’, ‘his’, ‘through’,\n",
        "# ‘don’, ‘nor’, ‘me’, ‘were’, ‘her’, ‘more’, ‘himself’, ‘this’, ‘down’, ‘should’, ‘our’, ‘their’, ‘while’, ‘above’, ‘both’, ‘up’, ‘to’, ‘ours’, ‘had’, ‘she’, ‘all’, ‘no’, ‘when’, ‘at’, ‘any’, ‘before’, ‘them’, ‘same’, ‘and’, \n",
        "#‘been’, ‘have’, ‘in’, ‘will’, ‘on’, ‘does’, ‘yourselves’, ‘then’, ‘that’, ‘because’, ‘what’, ‘over’, ‘why’, ‘so’, ‘can’, ‘did’, ‘not’, ‘now’, ‘under’, ‘he’, ‘you’, ‘herself’, ‘has’, ‘just’, ‘where’, ‘too’, ‘only’, ‘myself’, ‘which’, ‘those’, ‘i’, ‘after’, ‘few’, ‘whom’, \n",
        "#‘t’, ‘being’, ‘if’, ‘theirs’, ‘my’, ‘against’, ‘a’, ‘by’, ‘doing’, ‘it’, ‘how’, ‘further’, ‘was’, ‘here’, ‘than’]\n",
        "print(stopwords)"
      ],
      "metadata": {
        "colab": {
          "base_uri": "https://localhost:8080/"
        },
        "id": "fNE5sl8DsSSh",
        "outputId": "572de89d-d678-4b21-b95f-50be1224a8b8"
      },
      "execution_count": 23,
      "outputs": [
        {
          "output_type": "stream",
          "name": "stdout",
          "text": [
            "['ourselves', 'are', 'the', 'is', 'and', 'or', 'hers', 'between', 'yourself', 'but', 'again', 'there', 'about', 'once', 'during', 'out', 'very', 'having', 'is', 'a', 'in', 'the', 'by', 'on', 'so', '!', '@', '#', '$', '%', '.', '^', '&', '*', '(', ')', '-', '_', '+', '=', '/']\n"
          ]
        }
      ]
    },
    {
      "cell_type": "code",
      "source": [
        "doc1=\"HIIi!! hello how are you@.\""
      ],
      "metadata": {
        "id": "KCFIwwj9vqMF"
      },
      "execution_count": 27,
      "outputs": []
    },
    {
      "cell_type": "code",
      "source": [
        "doc2=\"hello ! how are you feeling dear RAMANA AKKIREDDY.\""
      ],
      "metadata": {
        "id": "HK7pXZTowG3V"
      },
      "execution_count": 28,
      "outputs": []
    },
    {
      "cell_type": "code",
      "source": [
        "doc3=\"heyy buddy VIJAYA$!\""
      ],
      "metadata": {
        "id": "n7vaHlYCwI91"
      },
      "execution_count": 29,
      "outputs": []
    },
    {
      "cell_type": "code",
      "source": [
        "l=[doc1.lower(),doc2.lower(),doc3.lower()]\n",
        "print(l)"
      ],
      "metadata": {
        "id": "hRxfQWvMwLR9",
        "colab": {
          "base_uri": "https://localhost:8080/"
        },
        "outputId": "35e2e539-3210-498e-fe08-c4971e0c712f"
      },
      "execution_count": 32,
      "outputs": [
        {
          "output_type": "stream",
          "name": "stdout",
          "text": [
            "['hiii   hello how are you  ', 'hello ! how are you feeling dear ramana akkireddy.', 'heyy buddy vijaya$!']\n"
          ]
        }
      ]
    },
    {
      "cell_type": "code",
      "source": [
        "#removing the different symbols and white spaces:\n",
        "punc = '''!()-[]{};:'\"\\, <>./?@#$%^&*_~'''\n",
        "for ele in doc1:  \n",
        "    if ele in punc:  \n",
        "        doc1 = doc1.replace(ele, \" \") \n",
        "print(doc1)"
      ],
      "metadata": {
        "colab": {
          "base_uri": "https://localhost:8080/"
        },
        "id": "_eL-9O-rwpy5",
        "outputId": "1d6cec2a-1aa2-4833-905d-db1ede34ba52"
      },
      "execution_count": 31,
      "outputs": [
        {
          "output_type": "stream",
          "name": "stdout",
          "text": [
            "HIIi   hello how are you  \n"
          ]
        }
      ]
    },
    {
      "cell_type": "code",
      "source": [
        "for i in range(0,len(l)):\n",
        "  for ele in l[i]:\n",
        "    if ele in punc:\n",
        "       l[i]=l[i].replace(ele,\" \")\n",
        "print(l)"
      ],
      "metadata": {
        "colab": {
          "base_uri": "https://localhost:8080/"
        },
        "id": "KZKiSEMMzdQi",
        "outputId": "7a931486-6c8c-48a6-dfef-7ab6e045ae55"
      },
      "execution_count": 33,
      "outputs": [
        {
          "output_type": "stream",
          "name": "stdout",
          "text": [
            "['hiii   hello how are you  ', 'hello   how are you feeling dear ramana akkireddy ', 'heyy buddy vijaya  ']\n"
          ]
        }
      ]
    },
    {
      "cell_type": "code",
      "source": [
        "r=[]\n",
        "# Remove multiple empty spaces from string List\n",
        "# Using loop + strip()\n",
        "for i in range(0,len(l)):\n",
        "  z=l[i].split(\" \")\n",
        "  res = []\n",
        "  for ele in z:\n",
        "     if ele.strip():\n",
        "        res.append(ele)\n",
        "  r.extend(res)\n",
        "print(r)\n",
        "f_stop=r\n",
        "#removing the stop words:\n",
        "for i in f_stop:\n",
        "    if i in stopwords:\n",
        "      f_stop.remove(i)\n",
        "print(f_stop)\n",
        "#remove duplicates and start indexing \n",
        "final=set(f_stop)\n",
        "d={}\n",
        "for i in final:\n",
        "  d.update({i:[]})\n",
        "for i in d.keys():\n",
        "  for j in range(0,len(l)):\n",
        "      if i in l[j]:\n",
        "        d[i].append(j)\n",
        "print(d)"
      ],
      "metadata": {
        "id": "qmX07xbVzx-M",
        "colab": {
          "base_uri": "https://localhost:8080/"
        },
        "outputId": "4b3e13a2-aa0a-4920-f53f-65d7fadcc596"
      },
      "execution_count": 34,
      "outputs": [
        {
          "output_type": "stream",
          "name": "stdout",
          "text": [
            "['hiii', 'hello', 'how', 'are', 'you', 'hello', 'how', 'are', 'you', 'feeling', 'dear', 'ramana', 'akkireddy', 'heyy', 'buddy', 'vijaya']\n",
            "['hiii', 'hello', 'how', 'you', 'hello', 'how', 'you', 'feeling', 'dear', 'ramana', 'akkireddy', 'heyy', 'buddy', 'vijaya']\n",
            "{'dear': [1], 'ramana': [1], 'hiii': [0], 'heyy': [2], 'vijaya': [2], 'buddy': [2], 'feeling': [1], 'you': [0, 1], 'how': [0, 1], 'akkireddy': [1], 'hello': [0, 1]}\n"
          ]
        }
      ]
    }
  ]
}